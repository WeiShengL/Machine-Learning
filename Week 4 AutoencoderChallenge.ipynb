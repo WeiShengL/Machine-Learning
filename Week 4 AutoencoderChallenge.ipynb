{
  "nbformat": 4,
  "nbformat_minor": 0,
  "metadata": {
    "kernelspec": {
      "display_name": "Python 3",
      "language": "python",
      "name": "python3"
    },
    "language_info": {
      "codemirror_mode": {
        "name": "ipython",
        "version": 3
      },
      "file_extension": ".py",
      "mimetype": "text/x-python",
      "name": "python",
      "nbconvert_exporter": "python",
      "pygments_lexer": "ipython3",
      "version": "3.7.4"
    },
    "colab": {
      "name": "Week4_AutoencoderChallenge (19107650).ipynb",
      "provenance": [],
      "include_colab_link": true
    },
    "accelerator": "GPU"
  },
  "cells": [
    {
      "cell_type": "markdown",
      "metadata": {
        "id": "view-in-github",
        "colab_type": "text"
      },
      "source": [
        "<a href=\"https://colab.research.google.com/github/WeiShengL/Machine-Learning/blob/main/Week4_AutoencoderChallenge_(19107650).ipynb\" target=\"_parent\"><img src=\"https://colab.research.google.com/assets/colab-badge.svg\" alt=\"Open In Colab\"/></a>"
      ]
    },
    {
      "cell_type": "markdown",
      "metadata": {
        "id": "F8Gzzz_mqjv2"
      },
      "source": [
        "# Practical Machine Learning for Physicists\n",
        "## Week 2 Exercise - Part 2\n",
        "## Deadline Monday 9th November at 12pm (Noon)\n",
        "*Lai Wei Sheng. S/N:19107650*"
      ]
    },
    {
      "cell_type": "markdown",
      "metadata": {
        "id": "6whVBjQgqjv6"
      },
      "source": [
        "For both of these tasks we want you to implement autoencoder networks that:\n",
        "- Train on randomly generated circles (using the circle_generator function below)\n",
        "- Use 27x27 pixel images\n",
        "- Use no more than 30,000 randomly generated samples (e.g. batchsize 30 and 1000 steps, or batchsize 1000 and 30 steps, or anywhere inbetween) in training the final networks for each task\n",
        "- Use the mean_squared_error loss function\n",
        "- Fulfil the network size requirement listed in the task (can be verifired using the print_layers function, after the network is partially trained)\n",
        "\n",
        "### Task 1:\n",
        "Implement any network design, but the bottleneck must contain no more than 9 neurons.\n",
        "\n",
        "### Task 2:\n",
        "Implement any network design, but the bottleneck must contain no more than 3 neurons.\n",
        "\n",
        "\n",
        "\n",
        "#### Practicalities\n",
        "You should use this notebook for your work and upload it to both Moodle and CoCalc. You are expected to use TensorFlow and Keras to complete these tasks. The notebook should be self-contained and able to be executed if necessary. Marks will be awarded for (roughly equally weighted):\n",
        "- Overall notebook clarity (both in terms of good coding practice and coherent discussion)\n",
        "- Task 1 performance (0.02 is a good target cost to do better than)\n",
        "- Task 2 performance ( a good target here is left for the student to determine)\n",
        "\n"
      ]
    },
    {
      "cell_type": "code",
      "metadata": {
        "id": "qHIBF6SXqjv9"
      },
      "source": [
        "import matplotlib.pyplot as plt\n",
        "import numpy as np\n",
        "import math\n",
        "\n",
        "import matplotlib.style #Some style nonsense\n",
        "import matplotlib as mpl #Some more style nonsense\n",
        "\n",
        "# TensorFlow and tf.keras\n",
        "import tensorflow as tf\n",
        "from tensorflow import keras\n",
        "\n",
        "#Set default figure size\n",
        "mpl.rcParams['figure.figsize'] = [12.0, 8.0] #Inches... of course it is inches\n",
        "mpl.rcParams[\"legend.frameon\"] = False\n",
        "mpl.rcParams['figure.dpi']=200 # dots per inch\n"
      ],
      "execution_count": 1,
      "outputs": []
    },
    {
      "cell_type": "code",
      "metadata": {
        "id": "gRAnI14nqjv_"
      },
      "source": [
        "#A big messy function to do the training\n",
        "# model -- our keras neural model autoencoder\n",
        "# image_generator -- a function to generate random images for the training (see below for examples)\n",
        "# img_size -- the size of our image in pixels\n",
        "# batchsize -- the number of images to include in each training batch\n",
        "# steps -- the number of steps taken in the training\n",
        "#\n",
        "# returns an array of the costs\n",
        "def generate_and_train(model,image_generator,img_size,batchsize,steps):\n",
        "   \n",
        "    #Generate an array of the numbers 1 to img_size and create a meshgrid from them    \n",
        "    pixels=np.linspace(-1,1,img_size)\n",
        "    x,y=np.meshgrid(pixels,pixels)\n",
        "    \n",
        "    #Now create a test image using 1 call to image_generator\n",
        "    #y_test=np.zeros([1,pixels,pixels,1])\n",
        "    #y_test[:,:,:,0]=image_generator(1,x,y)\n",
        "    \n",
        "    #Now create the empty arrays for the images and cost\n",
        "    y_in=np.zeros([batchsize,img_size,img_size,1])\n",
        "    y_target=np.zeros([batchsize,img_size,img_size,1])\n",
        "    cost=np.zeros(steps)\n",
        "    \n",
        "    #Loop through the steps, get a random batch of samples, train the model, repeat\n",
        "    for k in range(steps):\n",
        "        # produce samples:\n",
        "        y_in[:,:,:,0]=image_generator(batchsize,x,y)\n",
        "        y_target=np.copy(y_in) # autoencoder wants to reproduce its input!\n",
        "        \n",
        "        # do one training step on this batch of samples:\n",
        "        cost[k]=model.train_on_batch(y_in,y_target)\n",
        "    \n",
        "    return cost,y_target\n",
        "\n",
        "def get_test_image(image_generator,img_size):\n",
        "    #Generate an array of the numbers 1 to img_size and create a meshgrid from them    \n",
        "    pixels=np.linspace(-1,1,img_size)\n",
        "    x,y=np.meshgrid(pixels,pixels)\n",
        "    \n",
        "    #Now create a test image using 1 call to image_generator\n",
        "    y_test=np.zeros([1,img_size,img_size,1])\n",
        "    y_test[:,:,:,0]=image_generator(1,x,y)\n",
        "    return y_test\n",
        "\n",
        "# A function to generate and plot a single test image and the output of our model\n",
        "# only to be called after training the model\n",
        "def plot_test_image(model,image_generator,img_size):\n",
        "    #Get random test image\n",
        "    y_test=get_test_image(image_generator,img_size)\n",
        "    \n",
        "    #Create the output image\n",
        "    y_test_out=model.predict_on_batch(y_test)\n",
        "    fig, ax = plt.subplots(1,2)\n",
        "    ax[0].imshow(y_test[0,:,:,0],origin='lower')\n",
        "    ax[0].set_title(\"Input\")\n",
        "    ax[1].imshow(y_test_out[0,:,:,0],origin='lower')\n",
        "    ax[1].set_title(\"Output\")\n",
        "    \n",
        "def print_layers(network, y_in):\n",
        "    \"\"\"\n",
        "    Call this on some test images y_in, to get a print-out of\n",
        "    the layer sizes. Shapes shown are (batchsize,pixels,pixels,channels).\n",
        "    After a call to the visualization routine, y_target will contain\n",
        "    the last set of training images, so you could feed those in here.\n",
        "    \"\"\"\n",
        "    layer_features=get_layer_activations(network,y_in)\n",
        "    #print(layer_features)\n",
        "    for idx,feature in enumerate(layer_features):\n",
        "        s=np.shape(feature)\n",
        "        print(\"Layer \"+str(idx)+\": \"+str(s[1]*s[2]*s[3])+\" neurons / \", s)\n",
        "\n",
        "def get_layer_activation_extractor(network):\n",
        "    #print(network.inputs)\n",
        "    #for layer in network.layers:\n",
        "    #    print(layer.output)\n",
        "    return(keras.Model(inputs=network.inputs,\n",
        "                            outputs=[layer.output for layer in network.layers]))\n",
        "\n",
        "def get_layer_activations(network, y_in):\n",
        "    \"\"\"\n",
        "    Call this on some test images y_in, to get the intermediate \n",
        "    layer neuron values. These are returned in a list, with one\n",
        "    entry for each layer (the entries are arrays).\n",
        "    \"\"\"\n",
        "    extractor=get_layer_activation_extractor(network)\n",
        "    #print(extractor)\n",
        "    layer_features = extractor(y_in)\n",
        "    return layer_features\n",
        "    "
      ],
      "execution_count": 2,
      "outputs": []
    },
    {
      "cell_type": "markdown",
      "metadata": {
        "id": "ZvosZm9qqjwD"
      },
      "source": [
        "## Circle generator\n"
      ]
    },
    {
      "cell_type": "code",
      "metadata": {
        "id": "uHN4-mtRqjwE"
      },
      "source": [
        "# A simple image generator that returns an array of batchsize images\n",
        "# each image has a size of x * y pixels\n",
        "# in this image each image has a randomly placed circle (and the circle is of random size)\n",
        "def circle_generator(batchsize,x,y):\n",
        "    R=np.random.uniform(size=batchsize)\n",
        "    x0=np.random.uniform(size=batchsize,low=-1,high=1)\n",
        "    y0=np.random.uniform(size=batchsize,low=-1,high=1)\n",
        "    return( 1.0*((x[None,:,:]-x0[:,None,None])**2 + (y[None,:,:]-y0[:,None,None])**2 < R[:,None,None]**2) )\n"
      ],
      "execution_count": 3,
      "outputs": []
    },
    {
      "cell_type": "markdown",
      "metadata": {
        "id": "kwPqu2U2qjwG"
      },
      "source": [
        "## Model Structure"
      ]
    },
    {
      "cell_type": "code",
      "metadata": {
        "colab": {
          "base_uri": "https://localhost:8080/"
        },
        "id": "29oh88QrqjwH",
        "outputId": "0daf856e-932b-4738-fa08-61f792d953f3"
      },
      "source": [
        "model=keras.models.Sequential()\n",
        "\n",
        "model.add(keras.layers.Conv2D(256,5,input_shape=(None,None,1),activation=\"sigmoid\",padding='same')) # Convolutional Layer\n",
        "model.add(keras.layers.AveragePooling2D(pool_size=(3,3),padding='same'))                            # down pooling\n",
        "\n",
        "model.add(keras.layers.Conv2D(128,5,activation=\"sigmoid\",padding='same'))                           # Convolutional layer\n",
        "model.add(keras.layers.AveragePooling2D(pool_size=(3,3),padding='same'))                            # down pooling\n",
        "\n",
        "model.add(keras.layers.Conv2D(1,3,activation=\"sigmoid\",padding='same'))                             # Convolutional layer (bottlenck with 9 nerurons)\n",
        "model.add(keras.layers.UpSampling2D(size=(3,3)))                                                    # up sizing\n",
        "\n",
        "model.add(keras.layers.Conv2D(64,5,activation=\"sigmoid\",padding='same'))                            # Convolutional layer\n",
        "model.add(keras.layers.UpSampling2D(size=(3,3)))                                                    # up sizing\n",
        "\n",
        "model.add(keras.layers.Conv2D(128,5,activation=\"sigmoid\",padding='same'))                           # Convolutional layer\n",
        "\n",
        "model.add(keras.layers.Conv2D(256,5,activation=\"linear\",padding='same'))                            # Convolutional layer\n",
        "\n",
        "# Compiling Model\n",
        "model.compile(loss='mean_squared_error',\n",
        "              optimizer='adam')\n",
        "model.summary()"
      ],
      "execution_count": 4,
      "outputs": [
        {
          "output_type": "stream",
          "name": "stdout",
          "text": [
            "Model: \"sequential\"\n",
            "_________________________________________________________________\n",
            " Layer (type)                Output Shape              Param #   \n",
            "=================================================================\n",
            " conv2d (Conv2D)             (None, None, None, 256)   6656      \n",
            "                                                                 \n",
            " average_pooling2d (AverageP  (None, None, None, 256)  0         \n",
            " ooling2D)                                                       \n",
            "                                                                 \n",
            " conv2d_1 (Conv2D)           (None, None, None, 128)   819328    \n",
            "                                                                 \n",
            " average_pooling2d_1 (Averag  (None, None, None, 128)  0         \n",
            " ePooling2D)                                                     \n",
            "                                                                 \n",
            " conv2d_2 (Conv2D)           (None, None, None, 1)     1153      \n",
            "                                                                 \n",
            " up_sampling2d (UpSampling2D  (None, None, None, 1)    0         \n",
            " )                                                               \n",
            "                                                                 \n",
            " conv2d_3 (Conv2D)           (None, None, None, 64)    1664      \n",
            "                                                                 \n",
            " up_sampling2d_1 (UpSampling  (None, None, None, 64)   0         \n",
            " 2D)                                                             \n",
            "                                                                 \n",
            " conv2d_4 (Conv2D)           (None, None, None, 128)   204928    \n",
            "                                                                 \n",
            " conv2d_5 (Conv2D)           (None, None, None, 256)   819456    \n",
            "                                                                 \n",
            "=================================================================\n",
            "Total params: 1,853,185\n",
            "Trainable params: 1,853,185\n",
            "Non-trainable params: 0\n",
            "_________________________________________________________________\n"
          ]
        }
      ]
    },
    {
      "cell_type": "code",
      "metadata": {
        "colab": {
          "base_uri": "https://localhost:8080/",
          "height": 216
        },
        "id": "nMTzquTDqjwK",
        "outputId": "3cbab802-ee99-4fe2-a553-458242cc0ce2"
      },
      "source": [
        "# Plot of model output before training\n",
        "plot_test_image(model,circle_generator,27)"
      ],
      "execution_count": 5,
      "outputs": [
        {
          "output_type": "display_data",
          "data": {
            "image/png": "[encoded data removed]",
            "text/plain": [
              "<Figure size 432x288 with 2 Axes>"
            ]
          },
          "metadata": {
            "needs_background": "light"
          }
        }
      ]
    },
    {
      "cell_type": "code",
      "metadata": {
        "colab": {
          "base_uri": "https://localhost:8080/",
          "height": 297
        },
        "id": "JSLUxZ86qjwL",
        "outputId": "2884bb81-066a-4107-bc6a-f191c6cfe3d9"
      },
      "source": [
        "# Training model and plot cost value\n",
        "steps = 500\n",
        "cost,y_target = generate_and_train(model,circle_generator,27,100,steps)\n",
        "fig, ax = plt.subplots()\n",
        "stepArray=np.arange(steps) \n",
        "ax.plot(stepArray,cost,linewidth=3) \n",
        "ax.set_xlabel(\"Step Number\") \n",
        "ax.set_ylabel(\"Cost\")\n",
        "print(\"Final Cost = {0:.4f}\".format(cost[-1]))"
      ],
      "execution_count": 6,
      "outputs": [
        {
          "output_type": "stream",
          "name": "stdout",
          "text": [
            "Final Cost = 0.1374\n"
          ]
        },
        {
          "output_type": "display_data",
          "data": {
            "image/png": "[encoded data removed]",
            "text/plain": [
              "<Figure size 432x288 with 1 Axes>"
            ]
          },
          "metadata": {
            "needs_background": "light"
          }
        }
      ]
    },
    {
      "cell_type": "code",
      "metadata": {
        "colab": {
          "base_uri": "https://localhost:8080/",
          "height": 216
        },
        "id": "dqZT0rIDqjwM",
        "outputId": "b20b660a-0fcb-403d-f2ff-e4f13146688f"
      },
      "source": [
        "plot_test_image(model,circle_generator,27) # Plot input and output by model"
      ],
      "execution_count": 7,
      "outputs": [
        {
          "output_type": "display_data",
          "data": {
            "image/png": "[encoded data removed]",
            "text/plain": [
              "<Figure size 432x288 with 2 Axes>"
            ]
          },
          "metadata": {
            "needs_background": "light"
          }
        }
      ]
    },
    {
      "cell_type": "code",
      "metadata": {
        "colab": {
          "base_uri": "https://localhost:8080/"
        },
        "id": "m6lOXlInqjwN",
        "outputId": "25f7de08-a740-4ea4-c788-f48ff085a7af"
      },
      "source": [
        "print_layers(model, y_target) # Print Layers"
      ],
      "execution_count": 8,
      "outputs": [
        {
          "output_type": "stream",
          "name": "stdout",
          "text": [
            "Layer 0: 186624 neurons /  (100, 27, 27, 256)\n",
            "Layer 1: 20736 neurons /  (100, 9, 9, 256)\n",
            "Layer 2: 10368 neurons /  (100, 9, 9, 128)\n",
            "Layer 3: 1152 neurons /  (100, 3, 3, 128)\n",
            "Layer 4: 9 neurons /  (100, 3, 3, 1)\n",
            "Layer 5: 81 neurons /  (100, 9, 9, 1)\n",
            "Layer 6: 5184 neurons /  (100, 9, 9, 64)\n",
            "Layer 7: 46656 neurons /  (100, 27, 27, 64)\n",
            "Layer 8: 93312 neurons /  (100, 27, 27, 128)\n",
            "Layer 9: 186624 neurons /  (100, 27, 27, 256)\n"
          ]
        }
      ]
    },
    {
      "cell_type": "markdown",
      "metadata": {
        "id": "zgIhpOYHqjwO"
      },
      "source": [
        "## Task 2\n",
        "\n",
        "For a bottleneck of 3 neurons we will have to add an additional layer for down pooling the input."
      ]
    },
    {
      "cell_type": "code",
      "metadata": {
        "colab": {
          "base_uri": "https://localhost:8080/"
        },
        "id": "2o9YyftVqjwP",
        "outputId": "848d7994-9f80-4d3d-d092-b0f97c56612d"
      },
      "source": [
        "model2=keras.models.Sequential()\n",
        "\n",
        "model2.add(keras.layers.Conv2D(256,5,input_shape=(None,None,1),activation=\"sigmoid\",padding='same')) # Convolutional Layer\n",
        "model2.add(keras.layers.AveragePooling2D(pool_size=(3,3),padding='same'))                            # down pooling\n",
        "\n",
        "model2.add(keras.layers.Conv2D(128,5,activation=\"sigmoid\",padding='same'))                           # Convolutional layer\n",
        "model2.add(keras.layers.AveragePooling2D(pool_size=(3,3),padding='same'))                            # down pooling\n",
        "\n",
        "model2.add(keras.layers.Conv2D(128,5,activation=\"relu\",padding='same'))                              # Convolutional layer\n",
        "model2.add(keras.layers.AveragePooling2D(pool_size=(3,3),padding='same'))                            # extra down pooling\n",
        "\n",
        "model2.add(keras.layers.Conv2D(3,3,activation=\"sigmoid\",padding='same'))                             # Convolutional layer\n",
        "model2.add(keras.layers.UpSampling2D(size=(3,3)))                                                    # extra up sizing\n",
        "\n",
        "model2.add(keras.layers.Conv2D(128,5,activation=\"sigmoid\",padding='same'))                           # Convolutional layer\n",
        "model2.add(keras.layers.UpSampling2D(size=(3,3)))                                                    # up sizing\n",
        "\n",
        "model2.add(keras.layers.Conv2D(128,5,activation=\"sigmoid\",padding='same'))                           # Convolutional layer\n",
        "model2.add(keras.layers.UpSampling2D(size=(3,3)))                                                    # up sizing\n",
        "\n",
        "model2.add(keras.layers.Conv2D(256,5,activation=\"sigmoid\",padding='same'))                           # Convolutional layer\n",
        "\n",
        "model2.add(keras.layers.Conv2D(512,3,activation=\"linear\",padding='same'))                            # Convolutional layer\n",
        "\n",
        "# Compiling Model\n",
        "model2.compile(loss='mean_squared_error',\n",
        "              optimizer='adam')\n",
        "model2.summary()"
      ],
      "execution_count": 9,
      "outputs": [
        {
          "output_type": "stream",
          "name": "stdout",
          "text": [
            "Model: \"sequential_1\"\n",
            "_________________________________________________________________\n",
            " Layer (type)                Output Shape              Param #   \n",
            "=================================================================\n",
            " conv2d_6 (Conv2D)           (None, None, None, 256)   6656      \n",
            "                                                                 \n",
            " average_pooling2d_2 (Averag  (None, None, None, 256)  0         \n",
            " ePooling2D)                                                     \n",
            "                                                                 \n",
            " conv2d_7 (Conv2D)           (None, None, None, 128)   819328    \n",
            "                                                                 \n",
            " average_pooling2d_3 (Averag  (None, None, None, 128)  0         \n",
            " ePooling2D)                                                     \n",
            "                                                                 \n",
            " conv2d_8 (Conv2D)           (None, None, None, 128)   409728    \n",
            "                                                                 \n",
            " average_pooling2d_4 (Averag  (None, None, None, 128)  0         \n",
            " ePooling2D)                                                     \n",
            "                                                                 \n",
            " conv2d_9 (Conv2D)           (None, None, None, 3)     3459      \n",
            "                                                                 \n",
            " up_sampling2d_2 (UpSampling  (None, None, None, 3)    0         \n",
            " 2D)                                                             \n",
            "                                                                 \n",
            " conv2d_10 (Conv2D)          (None, None, None, 128)   9728      \n",
            "                                                                 \n",
            " up_sampling2d_3 (UpSampling  (None, None, None, 128)  0         \n",
            " 2D)                                                             \n",
            "                                                                 \n",
            " conv2d_11 (Conv2D)          (None, None, None, 128)   409728    \n",
            "                                                                 \n",
            " up_sampling2d_4 (UpSampling  (None, None, None, 128)  0         \n",
            " 2D)                                                             \n",
            "                                                                 \n",
            " conv2d_12 (Conv2D)          (None, None, None, 256)   819456    \n",
            "                                                                 \n",
            " conv2d_13 (Conv2D)          (None, None, None, 512)   1180160   \n",
            "                                                                 \n",
            "=================================================================\n",
            "Total params: 3,658,243\n",
            "Trainable params: 3,658,243\n",
            "Non-trainable params: 0\n",
            "_________________________________________________________________\n"
          ]
        }
      ]
    },
    {
      "cell_type": "code",
      "metadata": {
        "colab": {
          "base_uri": "https://localhost:8080/",
          "height": 297
        },
        "id": "BXKs_hRhqjwT",
        "outputId": "32dcdecb-c8b1-443e-ec50-2dbed1dd34c3"
      },
      "source": [
        "# Training model and plot cost value\n",
        "steps = 500\n",
        "cost,y_target = generate_and_train(model2,circle_generator,27,100,steps)\n",
        "fig, ax = plt.subplots()\n",
        "stepArray=np.arange(steps) \n",
        "ax.plot(stepArray,cost,linewidth=3) \n",
        "ax.set_xlabel(\"Step Number\") \n",
        "ax.set_ylabel(\"Cost\")\n",
        "print(\"Final Cost = {0:.4f}\".format(cost[-1]))"
      ],
      "execution_count": 10,
      "outputs": [
        {
          "output_type": "stream",
          "name": "stdout",
          "text": [
            "Final Cost = 0.1404\n"
          ]
        },
        {
          "output_type": "display_data",
          "data": {
            "image/png": "[encoded data removed]",
            "text/plain": [
              "<Figure size 432x288 with 1 Axes>"
            ]
          },
          "metadata": {
            "needs_background": "light"
          }
        }
      ]
    },
    {
      "cell_type": "code",
      "metadata": {
        "colab": {
          "base_uri": "https://localhost:8080/",
          "height": 216
        },
        "id": "KrmvBfthqjwU",
        "outputId": "a4abb080-eda4-4d6a-d0a7-ea8ee0b7158f"
      },
      "source": [
        "plot_test_image(model2,circle_generator,27) # Plot of input and output by model"
      ],
      "execution_count": 11,
      "outputs": [
        {
          "output_type": "display_data",
          "data": {
            "image/png": "[encoded data removed]",
            "text/plain": [
              "<Figure size 432x288 with 2 Axes>"
            ]
          },
          "metadata": {
            "needs_background": "light"
          }
        }
      ]
    },
    {
      "cell_type": "code",
      "metadata": {
        "colab": {
          "base_uri": "https://localhost:8080/"
        },
        "id": "fkcUCcs3qjwU",
        "outputId": "e6392c7e-8347-44b8-a750-d7bde2ad660c"
      },
      "source": [
        "print_layers(model2,y_target) # Print layers"
      ],
      "execution_count": 12,
      "outputs": [
        {
          "output_type": "stream",
          "name": "stdout",
          "text": [
            "Layer 0: 186624 neurons /  (100, 27, 27, 256)\n",
            "Layer 1: 20736 neurons /  (100, 9, 9, 256)\n",
            "Layer 2: 10368 neurons /  (100, 9, 9, 128)\n",
            "Layer 3: 1152 neurons /  (100, 3, 3, 128)\n",
            "Layer 4: 1152 neurons /  (100, 3, 3, 128)\n",
            "Layer 5: 128 neurons /  (100, 1, 1, 128)\n",
            "Layer 6: 3 neurons /  (100, 1, 1, 3)\n",
            "Layer 7: 27 neurons /  (100, 3, 3, 3)\n",
            "Layer 8: 1152 neurons /  (100, 3, 3, 128)\n",
            "Layer 9: 10368 neurons /  (100, 9, 9, 128)\n",
            "Layer 10: 10368 neurons /  (100, 9, 9, 128)\n",
            "Layer 11: 93312 neurons /  (100, 27, 27, 128)\n",
            "Layer 12: 186624 neurons /  (100, 27, 27, 256)\n",
            "Layer 13: 373248 neurons /  (100, 27, 27, 512)\n"
          ]
        }
      ]
    },
    {
      "cell_type": "markdown",
      "metadata": {
        "id": "4LPMGSpWqjwW"
      },
      "source": [
        "# Conclusion\n",
        "There is no one perfect parameters configuration for the best model for network training. The bottleneck with only 3 neurons would have a higher cost value compare to the model with 9 neurons but it would have a higher efficiency. The network choice is highly dependent on the application of the network. Some would argue the cost value with a 3neurons bottleneck would be good enough for a trained model."
      ]
    },
    {
      "cell_type": "markdown",
      "metadata": {
        "id": "iwVtm6seq3Dh"
      },
      "source": [
        "# Feedback\n",
        "\n",
        "Should have used lesser amount of filter at the start for a general take of image then slightly increase the number of filter.\n",
        "\n",
        "Example below"
      ]
    },
    {
      "cell_type": "code",
      "metadata": {
        "colab": {
          "base_uri": "https://localhost:8080/"
        },
        "id": "mk7HhaJXqjwW",
        "outputId": "d3dc3726-3ba0-413c-855d-ee7606dea37f"
      },
      "source": [
        "model=keras.models.Sequential()\n",
        "\n",
        "model.add(keras.layers.Conv2D(32,5,input_shape=(None,None,1),activation=\"sigmoid\",padding='same')) # Convolutional Layer\n",
        "model.add(keras.layers.AveragePooling2D(pool_size=(3,3),padding='same'))                            # down pooling\n",
        "\n",
        "model.add(keras.layers.Conv2D(64,5,activation=\"sigmoid\",padding='same'))                           # Convolutional layer\n",
        "model.add(keras.layers.AveragePooling2D(pool_size=(3,3),padding='same'))                            # down pooling\n",
        "\n",
        "model.add(keras.layers.Conv2D(1,3,activation=\"sigmoid\",padding='same'))                             # Convolutional layer (bottlenck with 9 nerurons)\n",
        "model.add(keras.layers.UpSampling2D(size=(3,3)))                                                    # up sizing\n",
        "\n",
        "model.add(keras.layers.Conv2D(64,5,activation=\"sigmoid\",padding='same'))                            # Convolutional layer\n",
        "model.add(keras.layers.UpSampling2D(size=(3,3)))                                                    # up sizing\n",
        "\n",
        "model.add(keras.layers.Conv2D(32,5,activation=\"sigmoid\",padding='same'))                           # Convolutional layer\n",
        "\n",
        "model.add(keras.layers.Conv2D(32,5,activation=\"linear\",padding='same'))                            # Convolutional layer\n",
        "\n",
        "# Compiling Model\n",
        "model.compile(loss='mean_squared_error',\n",
        "              optimizer='adam')\n",
        "model.summary()"
      ],
      "execution_count": 13,
      "outputs": [
        {
          "output_type": "stream",
          "name": "stdout",
          "text": [
            "Model: \"sequential_2\"\n",
            "_________________________________________________________________\n",
            " Layer (type)                Output Shape              Param #   \n",
            "=================================================================\n",
            " conv2d_14 (Conv2D)          (None, None, None, 32)    832       \n",
            "                                                                 \n",
            " average_pooling2d_5 (Averag  (None, None, None, 32)   0         \n",
            " ePooling2D)                                                     \n",
            "                                                                 \n",
            " conv2d_15 (Conv2D)          (None, None, None, 64)    51264     \n",
            "                                                                 \n",
            " average_pooling2d_6 (Averag  (None, None, None, 64)   0         \n",
            " ePooling2D)                                                     \n",
            "                                                                 \n",
            " conv2d_16 (Conv2D)          (None, None, None, 1)     577       \n",
            "                                                                 \n",
            " up_sampling2d_5 (UpSampling  (None, None, None, 1)    0         \n",
            " 2D)                                                             \n",
            "                                                                 \n",
            " conv2d_17 (Conv2D)          (None, None, None, 64)    1664      \n",
            "                                                                 \n",
            " up_sampling2d_6 (UpSampling  (None, None, None, 64)   0         \n",
            " 2D)                                                             \n",
            "                                                                 \n",
            " conv2d_18 (Conv2D)          (None, None, None, 32)    51232     \n",
            "                                                                 \n",
            " conv2d_19 (Conv2D)          (None, None, None, 32)    25632     \n",
            "                                                                 \n",
            "=================================================================\n",
            "Total params: 131,201\n",
            "Trainable params: 131,201\n",
            "Non-trainable params: 0\n",
            "_________________________________________________________________\n"
          ]
        }
      ]
    },
    {
      "cell_type": "code",
      "metadata": {
        "colab": {
          "base_uri": "https://localhost:8080/",
          "height": 297
        },
        "id": "qCy1w-qXrbM3",
        "outputId": "30b160ea-9bf5-4677-d1a4-c585d6d34fb4"
      },
      "source": [
        "steps = 500\n",
        "cost,y_target = generate_and_train(model,circle_generator,27,100,steps)\n",
        "fig, ax = plt.subplots()\n",
        "stepArray=np.arange(steps) \n",
        "ax.plot(stepArray,cost,linewidth=3) \n",
        "ax.set_xlabel(\"Step Number\") \n",
        "ax.set_ylabel(\"Cost\")\n",
        "print(\"Final Cost = {0:.4f}\".format(cost[-1]))"
      ],
      "execution_count": 14,
      "outputs": [
        {
          "output_type": "stream",
          "name": "stdout",
          "text": [
            "Final Cost = 0.0192\n"
          ]
        },
        {
          "output_type": "display_data",
          "data": {
            "image/png": "[encoded data removed]",
            "text/plain": [
              "<Figure size 432x288 with 1 Axes>"
            ]
          },
          "metadata": {
            "needs_background": "light"
          }
        }
      ]
    },
    {
      "cell_type": "code",
      "metadata": {
        "colab": {
          "base_uri": "https://localhost:8080/",
          "height": 216
        },
        "id": "gkCy-cT_rb3-",
        "outputId": "87324f7d-790d-42a4-c36b-32017c7b0912"
      },
      "source": [
        "plot_test_image(model,circle_generator,27) # Plot input and output by model"
      ],
      "execution_count": 16,
      "outputs": [
        {
          "output_type": "display_data",
          "data": {
            "image/png": "[encoded data removed]",
            "text/plain": [
              "<Figure size 432x288 with 2 Axes>"
            ]
          },
          "metadata": {
            "needs_background": "light"
          }
        }
      ]
    },
    {
      "cell_type": "code",
      "metadata": {
        "id": "9tlhYX5Sre1c"
      },
      "source": [
        ""
      ],
      "execution_count": null,
      "outputs": []
    }
  ]
}
